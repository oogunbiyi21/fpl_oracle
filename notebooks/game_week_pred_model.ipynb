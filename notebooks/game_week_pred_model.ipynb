{
 "cells": [
  {
   "cell_type": "markdown",
   "id": "f5d2f137-e5af-44c8-afaf-f4048612996f",
   "metadata": {},
   "source": [
    "# Game week points prediction model"
   ]
  },
  {
   "cell_type": "code",
   "execution_count": 1,
   "id": "79f40e07-8959-4193-946c-24584971b5ee",
   "metadata": {},
   "outputs": [],
   "source": [
    "import pandas as pd\n",
    "import requests\n",
    "import os\n",
    "import json\n",
    "import datetime\n",
    "from datetime import datetime\n",
    "import matplotlib.pyplot as plt\n",
    "import seaborn as sns\n",
    "from sklearn.model_selection import train_test_split\n",
    "from sklearn.ensemble import RandomForestRegressor\n",
    "from sklearn.metrics import mean_squared_error, r2_score"
   ]
  },
  {
   "cell_type": "markdown",
   "id": "2fd59110-f513-423c-b472-ab9a14579151",
   "metadata": {},
   "source": [
    "## Load and clean fixture dataset"
   ]
  },
  {
   "cell_type": "code",
   "execution_count": 2,
   "id": "088e6300-f231-47e1-b050-ec4b6e868f8b",
   "metadata": {},
   "outputs": [],
   "source": [
    "def fetch_fixtures():\n",
    "    url = 'https://fantasy.premierleague.com/api/fixtures/'\n",
    "    response = requests.get(url)\n",
    "    data = response.json()\n",
    "    return data\n",
    "\n",
    "def fetch_teams():\n",
    "    url = 'https://fantasy.premierleague.com/api/bootstrap-static/'\n",
    "    response = requests.get(url)\n",
    "    data = response.json()\n",
    "    teams = {team['id']: team['name'] for team in data['teams']}\n",
    "    return teams\n",
    "\n",
    "fixtures = fetch_fixtures()\n",
    "teams = fetch_teams()\n",
    "\n",
    "fixtures_df = pd.DataFrame(fixtures)\n",
    "teams_df = pd.DataFrame(list(teams.items()), columns=['team_id', 'team'])\n",
    "\n",
    "fixtures_df['team_h'] = fixtures_df['team_h'].map(teams)\n",
    "fixtures_df['team_a'] = fixtures_df['team_a'].map(teams)\n",
    "\n",
    "team_h_difficulty = fixtures_df.groupby('team_h')['team_h_difficulty'].mean().reset_index()\n",
    "team_a_difficulty = fixtures_df.groupby('team_a')['team_a_difficulty'].mean().reset_index()\n",
    "\n",
    "team_h_difficulty.columns = ['team', 'avg_home_difficulty']\n",
    "team_a_difficulty.columns = ['team', 'avg_away_difficulty']\n",
    "\n",
    "team_difficulty = pd.merge(team_h_difficulty, team_a_difficulty, on='team', how='outer')\n",
    "\n",
    "team_difficulty['avg_difficulty'] = team_difficulty[['avg_home_difficulty', 'avg_away_difficulty']].mean(axis=1)\n",
    "\n",
    "team_difficulty = team_difficulty.merge(teams_df, on=\"team\")\n",
    "\n",
    "team_difficulty_mapping = team_difficulty.set_index('team_id')['avg_difficulty'].to_dict()\n",
    "\n",
    "fixtures_df['opponent_team_difficulty'] = fixtures_df['team_a'].map(team_difficulty_mapping)"
   ]
  },
  {
   "cell_type": "code",
   "execution_count": null,
   "id": "f3081b8b-91ed-4beb-aefd-c9cdda7cfbc7",
   "metadata": {},
   "outputs": [],
   "source": []
  },
  {
   "cell_type": "markdown",
   "id": "cb700e57-9de8-45f5-860a-fec74a94533f",
   "metadata": {},
   "source": [
    "## Remove columns not available at test time"
   ]
  },
  {
   "cell_type": "code",
   "execution_count": null,
   "id": "03f0a6d7-a540-438e-8479-8bf600340298",
   "metadata": {},
   "outputs": [],
   "source": [
    "columns_to_drop = [\n",
    "    'goals_scored', 'assists', 'clean_sheets', \n",
    "    'goals_conceded', 'own_goals', 'penalties_missed', 'penalties_saved', \n",
    "    'red_cards', 'saves', 'team_a_score', 'team_h_score', \n",
    "    'yellow_cards', 'round', 'kickoff_time', 'selected', \n",
    "    'transfers_in', 'transfers_out',\n",
    "    'expected_assists', 'expected_goal_involvements', 'expected_goals',\n",
    "    'expected_goals_conceded', 'creativity', 'influence', 'bonus',\n",
    "    'bps', 'minutes', 'xP', 'element', 'fixture', 'threat'\n",
    "]"
   ]
  },
  {
   "cell_type": "markdown",
   "id": "8ba3dc91-71fa-4605-9fac-62599acf381b",
   "metadata": {},
   "source": [
    "## Scale up\n",
    "Merge all 38 game week datasets"
   ]
  },
  {
   "cell_type": "code",
   "execution_count": null,
   "id": "df42cb55-f691-415f-8fc4-4e103e5ec0ea",
   "metadata": {},
   "outputs": [],
   "source": [
    "# gw_df_list = []\n",
    "# for gw in range(1,39):\n",
    "#     player_data = pd.read_csv(f'gw{gw}.csv')\n",
    "#     gw_df_list.append(player_data)\n",
    "\n",
    "# gw_all = pd.concat(gw_df_list)"
   ]
  },
  {
   "cell_type": "code",
   "execution_count": null,
   "id": "f280f7db-8a8f-416f-a4d1-ad88af8d911e",
   "metadata": {},
   "outputs": [],
   "source": [
    "# gw_all_with_difficulty = pd.merge(gw_all, team_difficulty, left_on='team', right_on='team', how='left')\n",
    "# gw_all_with_difficulty['opponent_team_difficulty'] = gw_all_with_difficulty['opponent_team'].map(team_difficulty_mapping)\n",
    "# gw_all_with_difficulty.to_csv('gw_all_with_difficulty.csv', index=False)\n",
    "# cleaned_gw_all = gw_all_with_difficulty.drop(columns=columns_to_drop)\n",
    "cleaned_gw_all = pr.read_csv(\"data/cleaned_gw_all.csv\")"
   ]
  },
  {
   "cell_type": "markdown",
   "id": "9d0f090a-b341-472c-b833-70a0449d8e7a",
   "metadata": {},
   "source": [
    "## Exploratory data analysis"
   ]
  },
  {
   "cell_type": "code",
   "execution_count": null,
   "id": "d93b398a-cee5-4af7-89aa-a668ea0a5b3b",
   "metadata": {},
   "outputs": [],
   "source": [
    "plt.figure(figsize=(10, 6))\n",
    "sns.histplot(cleaned_gw_all['total_points'], bins=20, kde=True)\n",
    "plt.xlabel('Total Points')\n",
    "plt.ylabel('Frequency')\n",
    "plt.title('Distribution of Total Points')\n",
    "plt.grid(True)\n",
    "plt.show()"
   ]
  },
  {
   "cell_type": "code",
   "execution_count": null,
   "id": "c222affd-56f6-4fff-97dd-57a49f604e7f",
   "metadata": {},
   "outputs": [],
   "source": [
    "plt.figure(figsize=(12, 8))\n",
    "sns.boxplot(x='position', y='ict_index', data=cleaned_gw_all)\n",
    "plt.xlabel('Position')\n",
    "plt.ylabel('ICT Index')\n",
    "plt.title('ICT Index Distribution by Position')\n",
    "plt.grid(True)\n",
    "plt.show()\n"
   ]
  },
  {
   "cell_type": "code",
   "execution_count": null,
   "id": "cc743b70-495c-43a4-99c7-ac85d6b53020",
   "metadata": {},
   "outputs": [],
   "source": [
    "plt.figure(figsize=(12, 8))\n",
    "team_avg_points = cleaned_gw_all.groupby('team')['total_points'].mean().sort_values()\n",
    "sns.barplot(x=team_avg_points.index, y=team_avg_points.values, palette='viridis')\n",
    "plt.xlabel('Team')\n",
    "plt.ylabel('Average Total Points')\n",
    "plt.title('Average Total Points by Team')\n",
    "plt.xticks(rotation=45)\n",
    "plt.grid(True)\n",
    "plt.show()\n"
   ]
  },
  {
   "cell_type": "code",
   "execution_count": null,
   "id": "607f9c5e-567b-4073-84b4-69be006c0dab",
   "metadata": {},
   "outputs": [],
   "source": [
    "plt.figure(figsize=(10, 6))\n",
    "sns.scatterplot(x='avg_difficulty', y='total_points', data=cleaned_gw_all)\n",
    "sns.regplot(x='avg_difficulty', y='total_points', data=cleaned_gw_all, scatter=False, color='red')\n",
    "plt.xlabel('Average Difficulty')\n",
    "plt.ylabel('Total Points')\n",
    "plt.title('Total Points vs Average Difficulty')\n",
    "plt.grid(True)\n",
    "plt.show()"
   ]
  },
  {
   "cell_type": "code",
   "execution_count": null,
   "id": "9167ab48-03f6-44b6-8009-5f846a0350c3",
   "metadata": {},
   "outputs": [],
   "source": [
    "plt.figure(figsize=(10, 6))\n",
    "sns.boxplot(x='was_home', y='total_points', data=cleaned_gw_all)\n",
    "plt.xlabel('Was Home')\n",
    "plt.ylabel('Total Points')\n",
    "plt.title('Total Points Distribution: Home vs Away')\n",
    "plt.grid(True)\n",
    "plt.show()\n"
   ]
  },
  {
   "cell_type": "code",
   "execution_count": null,
   "id": "2646da3a-ff8c-4f44-a7d2-f1abdf9d828b",
   "metadata": {},
   "outputs": [],
   "source": [
    "plt.figure(figsize=(12, 8))\n",
    "corr_matrix = cleaned_gw_all[['total_points', 'ict_index', 'transfers_balance', 'value',\n",
    "                              'avg_home_difficulty', 'avg_away_difficulty', 'avg_difficulty',\n",
    "                              'opponent_team_difficulty']].corr()\n",
    "sns.heatmap(corr_matrix, annot=True, cmap='coolwarm', fmt='.2f')\n",
    "plt.title('Correlation Heatmap')\n",
    "plt.show()"
   ]
  },
  {
   "cell_type": "code",
   "execution_count": null,
   "id": "51b30558-25bf-478c-92b2-f62447931eab",
   "metadata": {},
   "outputs": [],
   "source": [
    "plt.figure(figsize=(12, 8))\n",
    "sns.boxplot(x='position', y='value', data=cleaned_gw_all)\n",
    "plt.xlabel('Position')\n",
    "plt.ylabel('Value')\n",
    "plt.title('Distribution of Player Value by Position')\n",
    "plt.grid(True)\n",
    "plt.show()"
   ]
  },
  {
   "cell_type": "code",
   "execution_count": null,
   "id": "4ef3b276-829c-404f-b692-4766a7312702",
   "metadata": {},
   "outputs": [],
   "source": [
    "plt.figure(figsize=(10, 6))\n",
    "sns.scatterplot(x='transfers_balance', y='total_points', data=cleaned_gw_all)\n",
    "plt.xlabel('Transfers Balance')\n",
    "plt.ylabel('Total Points')\n",
    "plt.title('Total Points vs Transfers Balance')\n",
    "plt.grid(True)\n",
    "plt.show()\n"
   ]
  },
  {
   "cell_type": "markdown",
   "id": "bb75c6f1-036e-4271-adb9-dab4cce78a50",
   "metadata": {},
   "source": [
    "## Data preprocessing and modelling"
   ]
  },
  {
   "cell_type": "code",
   "execution_count": null,
   "id": "cc361cbc-6ae9-4725-8366-5b961fbb1007",
   "metadata": {},
   "outputs": [],
   "source": [
    "cleaned_gw_all.columns"
   ]
  },
  {
   "cell_type": "code",
   "execution_count": null,
   "id": "8039adfd-643f-48b5-a404-6460de72dd63",
   "metadata": {},
   "outputs": [],
   "source": [
    "import pandas as pd\n",
    "import numpy as np\n",
    "from sklearn.model_selection import train_test_split\n",
    "from sklearn.ensemble import RandomForestRegressor\n",
    "from sklearn.metrics import mean_squared_error, r2_score\n",
    "from sklearn.preprocessing import LabelEncoder\n",
    "\n",
    "label_encoders = {}\n",
    "for column in ['position', 'team']:\n",
    "    le = LabelEncoder()\n",
    "    cleaned_gw_all[column] = le.fit_transform(cleaned_gw_all[column])\n",
    "    label_encoders[column] = le\n",
    "\n",
    "cleaned_gw_all = cleaned_gw_all.dropna()\n",
    "\n",
    "X = cleaned_gw_all.drop(['name', 'total_points'], axis=1)\n",
    "y = cleaned_gw_all['total_points']\n",
    "\n",
    "X_train, X_test, y_train, y_test = train_test_split(X, y, test_size=0.2, random_state=42)"
   ]
  },
  {
   "cell_type": "code",
   "execution_count": null,
   "id": "c50b7897-bb4e-4088-984c-ec0c2a5250b1",
   "metadata": {},
   "outputs": [],
   "source": [
    "rf_model = RandomForestRegressor(n_estimators=100, random_state=42)\n",
    "rf_model.fit(X_train, y_train)"
   ]
  },
  {
   "cell_type": "code",
   "execution_count": null,
   "id": "80354ba8-645c-4f93-9b16-13943a6129c8",
   "metadata": {},
   "outputs": [],
   "source": [
    "y_pred = rf_model.predict(X_test)\n",
    "mse = mean_squared_error(y_test, y_pred)\n",
    "r2 = r2_score(y_test, y_pred)\n",
    "\n",
    "print(f\"Mean Squared Error: {mse}\")\n",
    "print(f\"R^2 Score: {r2}\")"
   ]
  },
  {
   "cell_type": "code",
   "execution_count": null,
   "id": "72407057-fb6c-49e0-ae98-e802b4e4de5e",
   "metadata": {},
   "outputs": [],
   "source": [
    "y_test"
   ]
  },
  {
   "cell_type": "code",
   "execution_count": null,
   "id": "7694e464-2b7a-43c8-ba6e-9a0782246098",
   "metadata": {},
   "outputs": [],
   "source": [
    "y_pred"
   ]
  },
  {
   "cell_type": "code",
   "execution_count": null,
   "id": "c5e9b554-2dba-4c81-85b1-d9f90b3309d5",
   "metadata": {},
   "outputs": [],
   "source": [
    "plt.figure(figsize=(10, 6))\n",
    "sns.scatterplot(x=y_test, y=y_pred)\n",
    "plt.plot([y_test.min(), y_test.max()], [y_test.min(), y_test.max()], 'r--', lw=2)  # Diagonal line\n",
    "plt.xlabel('Actual Total Points')\n",
    "plt.ylabel('Predicted Total Points')\n",
    "plt.title('Actual vs Predicted Total Points')\n",
    "plt.grid(True)"
   ]
  },
  {
   "cell_type": "code",
   "execution_count": null,
   "id": "d6b7075f-0648-4dbf-8695-d1804a98620e",
   "metadata": {},
   "outputs": [],
   "source": [
    "# Get feature importances\n",
    "feature_importances = rf_model.feature_importances_\n",
    "\n",
    "# Create a DataFrame for plotting\n",
    "feature_importances_df = pd.DataFrame({\n",
    "    'feature': X.columns,\n",
    "    'importance': feature_importances\n",
    "})\n",
    "\n",
    "# Sort by importance\n",
    "feature_importances_df = feature_importances_df.sort_values(by='importance', ascending=False)\n",
    "\n",
    "# Plot\n",
    "plt.figure(figsize=(12, 8))\n",
    "sns.barplot(x='importance', y='feature', data=feature_importances_df)\n",
    "plt.xlabel('Feature Importance')\n",
    "plt.ylabel('Feature')\n",
    "plt.title('Feature Importance for Predicting Total Points')\n",
    "plt.show()"
   ]
  },
  {
   "cell_type": "code",
   "execution_count": null,
   "id": "4e958359-2db7-469d-91bc-4a4175ccf531",
   "metadata": {},
   "outputs": [],
   "source": []
  }
 ],
 "metadata": {
  "kernelspec": {
   "display_name": "Python (fpl_env)",
   "language": "python",
   "name": "fpl_env"
  },
  "language_info": {
   "codemirror_mode": {
    "name": "ipython",
    "version": 3
   },
   "file_extension": ".py",
   "mimetype": "text/x-python",
   "name": "python",
   "nbconvert_exporter": "python",
   "pygments_lexer": "ipython3",
   "version": "3.8.19"
  }
 },
 "nbformat": 4,
 "nbformat_minor": 5
}
