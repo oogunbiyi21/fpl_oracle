{
 "cells": [
  {
   "cell_type": "markdown",
   "id": "9c664380-ee81-498b-a40b-03a7da03ced3",
   "metadata": {},
   "source": [
    "# Total points player predictor"
   ]
  },
  {
   "cell_type": "code",
   "execution_count": 1,
   "id": "d224bd18-38fb-4a82-a3ee-fd91d76540c2",
   "metadata": {},
   "outputs": [],
   "source": [
    "import pandas as pd\n",
    "import os\n",
    "import numpy as np\n",
    "from sklearn.model_selection import train_test_split\n",
    "from sklearn.ensemble import RandomForestRegressor\n",
    "from sklearn.metrics import mean_squared_error, r2_score"
   ]
  },
  {
   "cell_type": "markdown",
   "id": "53cc599a-c5fe-4b55-a042-40e5817b2061",
   "metadata": {},
   "source": [
    "## Load data"
   ]
  },
  {
   "cell_type": "code",
   "execution_count": 7,
   "id": "5f213db8-b267-4cb9-b8d7-6f6adb8edadf",
   "metadata": {},
   "outputs": [
    {
     "name": "stdout",
     "output_type": "stream",
     "text": [
      "  first_name           second_name  goals_scored  assists  total_points  \\\n",
      "0    Folarin               Balogun             0        0             0   \n",
      "1     Cédric          Alves Soares             0        0             3   \n",
      "2    Mohamed                Elneny             0        1             6   \n",
      "3      Fábio       Ferreira Vieira             1        3            24   \n",
      "4    Gabriel  dos Santos Magalhães             3        1           149   \n",
      "\n",
      "   minutes  goals_conceded  creativity  influence  threat  bonus  bps  \\\n",
      "0        0               0         0.0        0.0     0.0      0    0   \n",
      "1       59               0         4.3        2.0     0.0      0   15   \n",
      "2       25               0         2.1        4.0    10.0      0   16   \n",
      "3      290               2        88.8       82.8    85.0      0   67   \n",
      "4     3042              26       121.9      675.8   379.0      8  676   \n",
      "\n",
      "   ict_index  clean_sheets  red_cards  yellow_cards  selected_by_percent  \\\n",
      "0        0.0             0          0             0                  0.2   \n",
      "1        0.6             0          0             0                  0.5   \n",
      "2        1.6             0          0             0                  0.1   \n",
      "3       25.5             1          1             0                  0.1   \n",
      "4      117.9            16          0             4                 28.3   \n",
      "\n",
      "   now_cost element_type  \n",
      "0        44          FWD  \n",
      "1        38          DEF  \n",
      "2        44          MID  \n",
      "3        54          MID  \n",
      "4        54          DEF  \n",
      "first_name             0\n",
      "second_name            0\n",
      "goals_scored           0\n",
      "assists                0\n",
      "total_points           0\n",
      "minutes                0\n",
      "goals_conceded         0\n",
      "creativity             0\n",
      "influence              0\n",
      "threat                 0\n",
      "bonus                  0\n",
      "bps                    0\n",
      "ict_index              0\n",
      "clean_sheets           0\n",
      "red_cards              0\n",
      "yellow_cards           0\n",
      "selected_by_percent    0\n",
      "now_cost               0\n",
      "element_type           0\n",
      "dtype: int64\n"
     ]
    }
   ],
   "source": [
    "data = pd.read_csv(\"cleaned_players.csv\")\n",
    "print(data.head())\n",
    "print(data.isnull().sum())\n",
    "for col in data.select_dtypes(include=np.number).columns:\n",
    "    data[col].fillna(data[col].median(), inplace=True)\n",
    "data['element_type'] = data['element_type'].astype('category').cat.codes\n",
    "features = data.drop(['total_points', 'first_name', 'second_name'], axis=1)\n",
    "target = data['total_points']"
   ]
  },
  {
   "cell_type": "markdown",
   "id": "24a7799d-f819-4bd3-88a1-0bb21b8e50ef",
   "metadata": {},
   "source": [
    "## Train test split"
   ]
  },
  {
   "cell_type": "code",
   "execution_count": 9,
   "id": "8ad22d94-8368-4bbb-ad38-94899fdfb424",
   "metadata": {},
   "outputs": [],
   "source": [
    "X_train, X_test, y_train, y_test = train_test_split(features, target, test_size=0.2, random_state=42)"
   ]
  },
  {
   "cell_type": "code",
   "execution_count": 10,
   "id": "9e7e694d-0820-490f-8add-c26a93482d16",
   "metadata": {},
   "outputs": [
    {
     "data": {
      "text/html": [
       "<style>#sk-container-id-1 {color: black;}#sk-container-id-1 pre{padding: 0;}#sk-container-id-1 div.sk-toggleable {background-color: white;}#sk-container-id-1 label.sk-toggleable__label {cursor: pointer;display: block;width: 100%;margin-bottom: 0;padding: 0.3em;box-sizing: border-box;text-align: center;}#sk-container-id-1 label.sk-toggleable__label-arrow:before {content: \"▸\";float: left;margin-right: 0.25em;color: #696969;}#sk-container-id-1 label.sk-toggleable__label-arrow:hover:before {color: black;}#sk-container-id-1 div.sk-estimator:hover label.sk-toggleable__label-arrow:before {color: black;}#sk-container-id-1 div.sk-toggleable__content {max-height: 0;max-width: 0;overflow: hidden;text-align: left;background-color: #f0f8ff;}#sk-container-id-1 div.sk-toggleable__content pre {margin: 0.2em;color: black;border-radius: 0.25em;background-color: #f0f8ff;}#sk-container-id-1 input.sk-toggleable__control:checked~div.sk-toggleable__content {max-height: 200px;max-width: 100%;overflow: auto;}#sk-container-id-1 input.sk-toggleable__control:checked~label.sk-toggleable__label-arrow:before {content: \"▾\";}#sk-container-id-1 div.sk-estimator input.sk-toggleable__control:checked~label.sk-toggleable__label {background-color: #d4ebff;}#sk-container-id-1 div.sk-label input.sk-toggleable__control:checked~label.sk-toggleable__label {background-color: #d4ebff;}#sk-container-id-1 input.sk-hidden--visually {border: 0;clip: rect(1px 1px 1px 1px);clip: rect(1px, 1px, 1px, 1px);height: 1px;margin: -1px;overflow: hidden;padding: 0;position: absolute;width: 1px;}#sk-container-id-1 div.sk-estimator {font-family: monospace;background-color: #f0f8ff;border: 1px dotted black;border-radius: 0.25em;box-sizing: border-box;margin-bottom: 0.5em;}#sk-container-id-1 div.sk-estimator:hover {background-color: #d4ebff;}#sk-container-id-1 div.sk-parallel-item::after {content: \"\";width: 100%;border-bottom: 1px solid gray;flex-grow: 1;}#sk-container-id-1 div.sk-label:hover label.sk-toggleable__label {background-color: #d4ebff;}#sk-container-id-1 div.sk-serial::before {content: \"\";position: absolute;border-left: 1px solid gray;box-sizing: border-box;top: 0;bottom: 0;left: 50%;z-index: 0;}#sk-container-id-1 div.sk-serial {display: flex;flex-direction: column;align-items: center;background-color: white;padding-right: 0.2em;padding-left: 0.2em;position: relative;}#sk-container-id-1 div.sk-item {position: relative;z-index: 1;}#sk-container-id-1 div.sk-parallel {display: flex;align-items: stretch;justify-content: center;background-color: white;position: relative;}#sk-container-id-1 div.sk-item::before, #sk-container-id-1 div.sk-parallel-item::before {content: \"\";position: absolute;border-left: 1px solid gray;box-sizing: border-box;top: 0;bottom: 0;left: 50%;z-index: -1;}#sk-container-id-1 div.sk-parallel-item {display: flex;flex-direction: column;z-index: 1;position: relative;background-color: white;}#sk-container-id-1 div.sk-parallel-item:first-child::after {align-self: flex-end;width: 50%;}#sk-container-id-1 div.sk-parallel-item:last-child::after {align-self: flex-start;width: 50%;}#sk-container-id-1 div.sk-parallel-item:only-child::after {width: 0;}#sk-container-id-1 div.sk-dashed-wrapped {border: 1px dashed gray;margin: 0 0.4em 0.5em 0.4em;box-sizing: border-box;padding-bottom: 0.4em;background-color: white;}#sk-container-id-1 div.sk-label label {font-family: monospace;font-weight: bold;display: inline-block;line-height: 1.2em;}#sk-container-id-1 div.sk-label-container {text-align: center;}#sk-container-id-1 div.sk-container {/* jupyter's `normalize.less` sets `[hidden] { display: none; }` but bootstrap.min.css set `[hidden] { display: none !important; }` so we also need the `!important` here to be able to override the default hidden behavior on the sphinx rendered scikit-learn.org. See: https://github.com/scikit-learn/scikit-learn/issues/21755 */display: inline-block !important;position: relative;}#sk-container-id-1 div.sk-text-repr-fallback {display: none;}</style><div id=\"sk-container-id-1\" class=\"sk-top-container\"><div class=\"sk-text-repr-fallback\"><pre>RandomForestRegressor(random_state=42)</pre><b>In a Jupyter environment, please rerun this cell to show the HTML representation or trust the notebook. <br />On GitHub, the HTML representation is unable to render, please try loading this page with nbviewer.org.</b></div><div class=\"sk-container\" hidden><div class=\"sk-item\"><div class=\"sk-estimator sk-toggleable\"><input class=\"sk-toggleable__control sk-hidden--visually\" id=\"sk-estimator-id-1\" type=\"checkbox\" checked><label for=\"sk-estimator-id-1\" class=\"sk-toggleable__label sk-toggleable__label-arrow\">RandomForestRegressor</label><div class=\"sk-toggleable__content\"><pre>RandomForestRegressor(random_state=42)</pre></div></div></div></div></div>"
      ],
      "text/plain": [
       "RandomForestRegressor(random_state=42)"
      ]
     },
     "execution_count": 10,
     "metadata": {},
     "output_type": "execute_result"
    }
   ],
   "source": [
    "rf = RandomForestRegressor(n_estimators=100, random_state=42)\n",
    "rf.fit(X_train, y_train)"
   ]
  },
  {
   "cell_type": "code",
   "execution_count": 11,
   "id": "764e9248-3ade-466d-bf97-7c071614a9a3",
   "metadata": {},
   "outputs": [
    {
     "name": "stdout",
     "output_type": "stream",
     "text": [
      "Mean Squared Error: 79.99371098265894\n",
      "R^2 Score: 0.9691626868543004\n"
     ]
    }
   ],
   "source": [
    "y_pred = rf.predict(X_test)\n",
    "mse = mean_squared_error(y_test, y_pred)\n",
    "r2 = r2_score(y_test, y_pred)\n",
    "print(f\"Mean Squared Error: {mse}\")\n",
    "print(f\"R^2 Score: {r2}\")"
   ]
  }
 ],
 "metadata": {
  "kernelspec": {
   "display_name": "Python (fpl_env)",
   "language": "python",
   "name": "fpl_env"
  },
  "language_info": {
   "codemirror_mode": {
    "name": "ipython",
    "version": 3
   },
   "file_extension": ".py",
   "mimetype": "text/x-python",
   "name": "python",
   "nbconvert_exporter": "python",
   "pygments_lexer": "ipython3",
   "version": "3.8.19"
  }
 },
 "nbformat": 4,
 "nbformat_minor": 5
}
